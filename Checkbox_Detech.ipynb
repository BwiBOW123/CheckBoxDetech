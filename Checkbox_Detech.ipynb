{
 "cells": [
  {
   "cell_type": "code",
   "id": "initial_id",
   "metadata": {
    "collapsed": true
   },
   "source": [
    "from ultralytics import YOLO\n",
    "\n",
    "# Initialize the model\n",
    "model = YOLO(\"yolov8n.pt\")\n",
    "\n",
    "# Train the model using your custom dataset with additional parameters for tuning\n",
    "model.train(data=\"./data.yaml\", epochs=20, batch=16, imgsz=640, lr0=0.01)\n",
    "\n",
    "# Evaluate the model's performance on the validation set\n",
    "results = model.val()\n",
    "\n",
    "# Perform object detection on a new image\n",
    "results = model(\"./01.jpg\")\n",
    "\n",
    "# Export the model to ONNX format\n",
    "success = model.export(format=\"onnx\")\n",
    "\n",
    "# Save the best model\n",
    "model.save(\"best.pt\")\n"
   ],
   "outputs": [],
   "execution_count": null
  },
  {
   "metadata": {
    "ExecuteTime": {
     "end_time": "2024-08-06T18:21:22.169148Z",
     "start_time": "2024-08-06T18:21:21.949148Z"
    }
   },
   "cell_type": "code",
   "source": [
    "import cv2\n",
    "from ultralytics import YOLO\n",
    "\n",
    "# Load the model\n",
    "model = YOLO(\"best.pt\")\n",
    "\n",
    "# Perform object detection\n",
    "results = model(\"01.jpg\")\n",
    "\n",
    "# Count the number of detected objects\n",
    "num_objects = len(results[0].boxes)\n",
    "print(f\"Number of objects detected: {num_objects}\")\n",
    "\n",
    "# Load the image\n",
    "#image = cv2.imread(\"01.jpg\")\n",
    "\n",
    "# Annotate the image with detection results\n",
    "#for box in results[0].boxes:\n",
    "    # Extract bounding box coordinates\n",
    "    #x1, y1, x2, y2 = map(int, box.xyxy[0])\n",
    "    # Draw the bounding box\n",
    "    #cv2.rectangle(image, (x1, y1), (x2, y2), (0, 255, 0), 2)\n",
    "    # Display the label and confidence score\n",
    "    #label = f\"{box.cls}:{box.conf:.2f}\"\n",
    "    #cv2.putText(image, label, (x1, y1 - 10), cv2.FONT_HERSHEY_SIMPLEX, 0.5, (0, 255, 0), 2)\n",
    "\n",
    "# Display the image\n",
    "#cv2.imshow(\"Detected Objects\", image)\n",
    "#cv2.waitKey(0)\n",
    "#cv2.destroyAllWindows()\n"
   ],
   "id": "b2115ca1435de6ff",
   "outputs": [
    {
     "name": "stdout",
     "output_type": "stream",
     "text": [
      "\n",
      "image 1/1 C:\\Project\\pythonProject\\01.jpg: 640x480 (no detections), 15.6ms\n",
      "Speed: 0.0ms preprocess, 15.6ms inference, 0.0ms postprocess per image at shape (1, 3, 640, 480)\n",
      "Number of objects detected: 0\n"
     ]
    }
   ],
   "execution_count": 4
  },
  {
   "metadata": {},
   "cell_type": "code",
   "outputs": [],
   "execution_count": null,
   "source": "",
   "id": "6f2d3af3fb2f5671"
  }
 ],
 "metadata": {
  "kernelspec": {
   "display_name": "Python 3",
   "language": "python",
   "name": "python3"
  },
  "language_info": {
   "codemirror_mode": {
    "name": "ipython",
    "version": 2
   },
   "file_extension": ".py",
   "mimetype": "text/x-python",
   "name": "python",
   "nbconvert_exporter": "python",
   "pygments_lexer": "ipython2",
   "version": "2.7.6"
  }
 },
 "nbformat": 4,
 "nbformat_minor": 5
}
